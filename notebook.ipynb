{
 "cells": [
  {
   "cell_type": "code",
   "execution_count": 1,
   "metadata": {},
   "outputs": [
    {
     "name": "stdout",
     "output_type": "stream",
     "text": [
      "Starting\n",
      "Conversion factor found: 0.005714285714285714\n"
     ]
    }
   ],
   "source": [
    "import cv2\n",
    "import numpy as np\n",
    "import time\n",
    "from helper_functions import draw_flow\n",
    "\n",
    "\n",
    "def main(video_path, show_fps=False, use_roi=True, scale_factor=1.0):\n",
    "    global last_frame\n",
    "    print('Starting')\n",
    "\n",
    "    # Pull the conversion factor from conv_factor.txt if exists\n",
    "    try:\n",
    "        with open('conv_factor.txt', 'r') as f:\n",
    "            conv_factor = float(f.read())\n",
    "            print(f\"Conversion factor found: {conv_factor}\")\n",
    "    except FileNotFoundError:\n",
    "        print(\"No conversion factor found. Using default value of 1.0\")\n",
    "        conv_factor = 1.0\n",
    "\n",
    "    cap = cv2.VideoCapture(video_path)\n",
    "    if not cap.isOpened():\n",
    "        print(\"Error opening video file\")\n",
    "        return\n",
    "\n",
    "    # Get FPS from the video file\n",
    "    real_time_fps = cap.get(cv2.CAP_PROP_FPS)\n",
    "\n",
    "    ret, prev = cap.read()\n",
    "    if not ret:\n",
    "        print(\"Failed to grab the frame\")\n",
    "        return\n",
    "\n",
    "    frame_height, frame_width = prev.shape[:2]\n",
    "\n",
    "    # Calculate the ROI based on scale factor\n",
    "    w_roi = int(frame_width * scale_factor)\n",
    "    h_roi = int(frame_height * scale_factor)\n",
    "    x_roi = (frame_width - w_roi) // 2\n",
    "    y_roi = (frame_height - h_roi) // 2\n",
    "\n",
    "    prev_gray = cv2.cvtColor(prev, cv2.COLOR_BGR2GRAY)\n",
    "    frame_count = 0\n",
    "    start_time = time.time()\n",
    "    prev_avg_velocity = 0\n",
    "    winsize = 200\n",
    "\n",
    "    while True:\n",
    "        ret, frame = cap.read()\n",
    "        if not ret:\n",
    "            break\n",
    "\n",
    "        frame_count += 1\n",
    "\n",
    "        if use_roi:\n",
    "            roi_frame = frame[y_roi:y_roi+h_roi, x_roi:x_roi+w_roi]\n",
    "        else:\n",
    "            roi_frame = frame\n",
    "\n",
    "        gray = cv2.cvtColor(roi_frame, cv2.COLOR_BGR2GRAY)\n",
    "\n",
    "        # Ensure prev_gray is only set after the first frame is captured\n",
    "        if frame_count == 1:\n",
    "            prev_gray = gray\n",
    "\n",
    "        flow = cv2.calcOpticalFlowFarneback(prev_gray, gray, None, pyr_scale=0.5, levels=1, winsize=winsize, iterations=5, poly_n=5, poly_sigma=1.2, flags=0)\n",
    "    \n",
    "        prev_gray = gray.copy()  # Update prev_gray for the next iteration\n",
    "\n",
    "        vis, prev_avg_velocity = draw_flow(gray, flow, winsize, real_time_fps, show_fps, frame_count, start_time, prev_avg_velocity, conv_factor=conv_factor,color_map_on=True)\n",
    "        cv2.imshow('Optical flow', vis)\n",
    "\n",
    "        if cv2.waitKey(1) & 0xFF == ord('q'):\n",
    "            #capture the frame\n",
    "            last_frame = frame\n",
    "            break\n",
    "\n",
    "    cap.release()\n",
    "    cv2.destroyAllWindows()\n",
    "\n",
    "if __name__ == \"__main__\":\n",
    "    video_path = \"video.mp4\"  # Replace with the path to your video file\n",
    "    main(video_path, show_fps=True, use_roi=True, scale_factor=.5)  # Adjust scale_factor as needed\n"
   ]
  },
  {
   "cell_type": "code",
   "execution_count": 2,
   "metadata": {},
   "outputs": [
    {
     "ename": "NameError",
     "evalue": "name 'last_frame' is not defined",
     "output_type": "error",
     "traceback": [
      "\u001b[1;31m---------------------------------------------------------------------------\u001b[0m",
      "\u001b[1;31mNameError\u001b[0m                                 Traceback (most recent call last)",
      "Cell \u001b[1;32mIn[2], line 1\u001b[0m\n\u001b[1;32m----> 1\u001b[0m last_frame \u001b[38;5;241m=\u001b[39m cv2\u001b[38;5;241m.\u001b[39mcvtColor(\u001b[43mlast_frame\u001b[49m, cv2\u001b[38;5;241m.\u001b[39mCOLOR_BGR2GRAY)\n",
      "\u001b[1;31mNameError\u001b[0m: name 'last_frame' is not defined"
     ]
    }
   ],
   "source": [
    "last_frame = cv2.cvtColor(last_frame, cv2.COLOR_BGR2GRAY)"
   ]
  }
 ],
 "metadata": {
  "kernelspec": {
   "display_name": "Python 3",
   "language": "python",
   "name": "python3"
  },
  "language_info": {
   "codemirror_mode": {
    "name": "ipython",
    "version": 3
   },
   "file_extension": ".py",
   "mimetype": "text/x-python",
   "name": "python",
   "nbconvert_exporter": "python",
   "pygments_lexer": "ipython3",
   "version": "3.10.11"
  }
 },
 "nbformat": 4,
 "nbformat_minor": 2
}
